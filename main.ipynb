{
 "cells": [
  {
   "cell_type": "code",
   "execution_count": 11,
   "id": "e7bc55a2",
   "metadata": {},
   "outputs": [],
   "source": [
    "import numpy as np\n",
    "import pandas as pd \n",
    "import sklearn as sk\n",
    "import tensorflow as tf\n",
    "import matplotlib.pyplot as plt\n",
    "from sklearn.datasets import load_files\n",
    "from sklearn import datasets\n",
    "from tensorflow.keras import utils"
   ]
  },
  {
   "cell_type": "code",
   "execution_count": 2,
   "id": "e9e44ed8",
   "metadata": {},
   "outputs": [
    {
     "name": "stdout",
     "output_type": "stream",
     "text": [
      "Found 1656 images belonging to 6 classes.\n",
      "Found 72 images belonging to 6 classes.\n"
     ]
    }
   ],
   "source": [
    "# system data\n",
    "train_dir = './images/train'\n",
    "test_dir = './images/test'\n",
    "valid_dir = './images/valid'\n",
    "\n",
    "# images will be rescaled by 1./255\n",
    "train_data_generation = tf.keras.preprocessing.image.ImageDataGenerator(rescale=1./255, \n",
    "                                                                        shear_range=0.2, \n",
    "                                                                        zoom_range=0.2, \n",
    "                                                                        horizontal_flip=True)\n",
    "\n",
    "test_data_generation = tf.keras.preprocessing.image.ImageDataGenerator(rescale=1./255)\n",
    "\n",
    "# images in batches of 10\n",
    "# number of samples processed before the model is updated\n",
    "train_generator = train_data_generation.flow_from_directory(train_dir, target_size=(200, 200), \n",
    "                                                            batch_size=10, class_mode='categorical')\n",
    "\n",
    "validation_generator = test_data_generation.flow_from_directory(valid_dir, target_size=(200, 200), \n",
    "                                                                batch_size=10, class_mode='categorical')"
   ]
  },
  {
   "cell_type": "code",
   "execution_count": 3,
   "id": "e07786ea",
   "metadata": {},
   "outputs": [],
   "source": [
    "# training a model with 98% accuracy\n",
    "class get_Callback(tf.keras.callbacks.Callback):\n",
    "    def on_epoch_end(self, epoch, logs={}):\n",
    "        if(logs.get('accuracy') > 0.98 ):\n",
    "            print(\"\\nReached 98% accuracy so cancelling training!\")\n",
    "            self.model.stop_training = True "
   ]
  },
  {
   "cell_type": "code",
   "execution_count": 4,
   "id": "5079b460",
   "metadata": {},
   "outputs": [
    {
     "name": "stderr",
     "output_type": "stream",
     "text": [
      "2022-03-31 18:17:12.189268: W tensorflow/stream_executor/platform/default/dso_loader.cc:64] Could not load dynamic library 'libcuda.so.1'; dlerror: libcuda.so.1: cannot open shared object file: No such file or directory\n",
      "2022-03-31 18:17:12.189346: W tensorflow/stream_executor/cuda/cuda_driver.cc:269] failed call to cuInit: UNKNOWN ERROR (303)\n",
      "2022-03-31 18:17:12.189399: I tensorflow/stream_executor/cuda/cuda_diagnostics.cc:156] kernel driver does not appear to be running on this host (wolli): /proc/driver/nvidia/version does not exist\n",
      "2022-03-31 18:17:12.202927: I tensorflow/core/platform/cpu_feature_guard.cc:151] This TensorFlow binary is optimized with oneAPI Deep Neural Network Library (oneDNN) to use the following CPU instructions in performance-critical operations:  AVX2 FMA\n",
      "To enable them in other operations, rebuild TensorFlow with the appropriate compiler flags.\n"
     ]
    },
    {
     "name": "stdout",
     "output_type": "stream",
     "text": [
      "Model: \"sequential\"\n",
      "_________________________________________________________________\n",
      " Layer (type)                Output Shape              Param #   \n",
      "=================================================================\n",
      " conv2d (Conv2D)             (None, 199, 199, 32)      416       \n",
      "                                                                 \n",
      " max_pooling2d (MaxPooling2D  (None, 99, 99, 32)       0         \n",
      " )                                                               \n",
      "                                                                 \n",
      " conv2d_1 (Conv2D)           (None, 98, 98, 64)        8256      \n",
      "                                                                 \n",
      " max_pooling2d_1 (MaxPooling  (None, 49, 49, 64)       0         \n",
      " 2D)                                                             \n",
      "                                                                 \n",
      " conv2d_2 (Conv2D)           (None, 48, 48, 128)       32896     \n",
      "                                                                 \n",
      " max_pooling2d_2 (MaxPooling  (None, 24, 24, 128)      0         \n",
      " 2D)                                                             \n",
      "                                                                 \n",
      " flatten (Flatten)           (None, 73728)             0         \n",
      "                                                                 \n",
      " dense (Dense)               (None, 256)               18874624  \n",
      "                                                                 \n",
      " dropout (Dropout)           (None, 256)               0         \n",
      "                                                                 \n",
      " dense_1 (Dense)             (None, 6)                 1542      \n",
      "                                                                 \n",
      "=================================================================\n",
      "Total params: 18,917,734\n",
      "Trainable params: 18,917,734\n",
      "Non-trainable params: 0\n",
      "_________________________________________________________________\n"
     ]
    }
   ],
   "source": [
    "model = tf.keras.models.Sequential([\n",
    "        tf.keras.layers.Conv2D(32, (2,2), activation='relu', input_shape=(200, 200, 3)),\n",
    "        tf.keras.layers.MaxPooling2D(2, 2),\n",
    "        tf.keras.layers.Conv2D(64, (2,2), activation='relu'),\n",
    "        tf.keras.layers.MaxPooling2D(2,2),\n",
    "        tf.keras.layers.Conv2D(128, (2,2), activation='relu'),\n",
    "        tf.keras.layers.MaxPooling2D(2,2),\n",
    "        tf.keras.layers.Flatten(),\n",
    "        tf.keras.layers.Dense(256, activation='relu'),\n",
    "        tf.keras.layers.Dropout(0.2),\n",
    "        tf.keras.layers.Dense(6, activation='softmax')])\n",
    "\n",
    "model.summary()"
   ]
  },
  {
   "cell_type": "code",
   "execution_count": 5,
   "id": "d0afe7ea",
   "metadata": {},
   "outputs": [
    {
     "name": "stdout",
     "output_type": "stream",
     "text": [
      "Compiled!\n",
      "Epoch 1/20\n",
      "166/166 [==============================] - 102s 599ms/step - loss: 1.7103 - accuracy: 0.3623 - val_loss: 1.9186 - val_accuracy: 0.5278\n",
      "Epoch 2/20\n",
      "166/166 [==============================] - 101s 605ms/step - loss: 1.0915 - accuracy: 0.6008 - val_loss: 0.7024 - val_accuracy: 0.8056\n",
      "Epoch 3/20\n",
      "166/166 [==============================] - 100s 601ms/step - loss: 0.7923 - accuracy: 0.7373 - val_loss: 0.2942 - val_accuracy: 0.9306\n",
      "Epoch 4/20\n",
      "166/166 [==============================] - 100s 603ms/step - loss: 0.5971 - accuracy: 0.8122 - val_loss: 0.2604 - val_accuracy: 0.9306\n",
      "Epoch 5/20\n",
      "166/166 [==============================] - 100s 600ms/step - loss: 0.5565 - accuracy: 0.8339 - val_loss: 0.0732 - val_accuracy: 0.9861\n",
      "Epoch 6/20\n",
      "166/166 [==============================] - 104s 628ms/step - loss: 0.4818 - accuracy: 0.8575 - val_loss: 0.1436 - val_accuracy: 0.9583\n",
      "Epoch 7/20\n",
      "166/166 [==============================] - 101s 610ms/step - loss: 0.4066 - accuracy: 0.8714 - val_loss: 2.2164 - val_accuracy: 0.5000\n",
      "Epoch 8/20\n",
      "166/166 [==============================] - 100s 603ms/step - loss: 0.3716 - accuracy: 0.8955 - val_loss: 0.1436 - val_accuracy: 0.9583\n",
      "Epoch 9/20\n",
      "166/166 [==============================] - 101s 608ms/step - loss: 0.3910 - accuracy: 0.8895 - val_loss: 0.1612 - val_accuracy: 0.9722\n",
      "Epoch 10/20\n",
      "166/166 [==============================] - 102s 614ms/step - loss: 0.3138 - accuracy: 0.9100 - val_loss: 0.0635 - val_accuracy: 0.9861\n",
      "Epoch 11/20\n",
      "166/166 [==============================] - 101s 607ms/step - loss: 0.3362 - accuracy: 0.9070 - val_loss: 0.2576 - val_accuracy: 0.9306\n",
      "Epoch 12/20\n",
      "166/166 [==============================] - 102s 615ms/step - loss: 0.3472 - accuracy: 0.9185 - val_loss: 0.3822 - val_accuracy: 0.9444\n",
      "Epoch 13/20\n",
      "166/166 [==============================] - 100s 601ms/step - loss: 0.3040 - accuracy: 0.9233 - val_loss: 0.1368 - val_accuracy: 0.9583\n",
      "Epoch 14/20\n",
      "166/166 [==============================] - 100s 601ms/step - loss: 0.2579 - accuracy: 0.9227 - val_loss: 0.0639 - val_accuracy: 1.0000\n",
      "Epoch 15/20\n",
      "166/166 [==============================] - 99s 598ms/step - loss: 0.2398 - accuracy: 0.9251 - val_loss: 0.0388 - val_accuracy: 1.0000\n",
      "Epoch 16/20\n",
      "166/166 [==============================] - 101s 609ms/step - loss: 0.2721 - accuracy: 0.9318 - val_loss: 0.0561 - val_accuracy: 0.9861\n",
      "Epoch 17/20\n",
      "166/166 [==============================] - 99s 599ms/step - loss: 0.2370 - accuracy: 0.9269 - val_loss: 0.0240 - val_accuracy: 0.9861\n",
      "Epoch 18/20\n",
      "166/166 [==============================] - 100s 601ms/step - loss: 0.2513 - accuracy: 0.9306 - val_loss: 0.3578 - val_accuracy: 0.9306\n",
      "Epoch 19/20\n",
      "166/166 [==============================] - 100s 602ms/step - loss: 0.2061 - accuracy: 0.9414 - val_loss: 0.0282 - val_accuracy: 1.0000\n",
      "Epoch 20/20\n",
      "166/166 [==============================] - 100s 600ms/step - loss: 0.3262 - accuracy: 0.9348 - val_loss: 0.0088 - val_accuracy: 1.0000\n"
     ]
    }
   ],
   "source": [
    "model.compile(loss='categorical_crossentropy', optimizer='rmsprop', metrics=['accuracy']) \n",
    "print('Compiled!')\n",
    "\n",
    "callbacks = get_Callback()\n",
    "history = model.fit(train_generator, batch_size = 32, epochs=20, validation_data=validation_generator, callbacks=[callbacks], verbose=1, shuffle=True)"
   ]
  },
  {
   "cell_type": "code",
   "execution_count": 6,
   "id": "e577bd07",
   "metadata": {},
   "outputs": [
    {
     "data": {
      "image/png": "[encoded data removed]",
      "text/plain": [
       "<Figure size 432x288 with 2 Axes>"
      ]
     },
     "metadata": {
      "needs_background": "light"
     },
     "output_type": "display_data"
    }
   ],
   "source": [
    "# plotting graphs\n",
    "plt.figure(1)  \n",
    "# history for accuracy  \n",
    "plt.subplot(211)  \n",
    "plt.plot(history.history['accuracy'])  \n",
    "plt.plot(history.history['val_accuracy'])  \n",
    "plt.title('model accuracy')  \n",
    "plt.ylabel('accuracy')  \n",
    "plt.xlabel('epoch')  \n",
    "plt.legend(['train', 'test'], loc='upper left')\n",
    "# history for loss    \n",
    "plt.subplot(212)  \n",
    "plt.plot(history.history['loss'])  \n",
    "plt.plot(history.history['val_loss'])  \n",
    "plt.title('model loss')  \n",
    "plt.ylabel('loss')  \n",
    "plt.xlabel('epoch')  \n",
    "plt.legend(['train', 'test'], loc='upper left')  \n",
    "plt.show()"
   ]
  },
  {
   "cell_type": "code",
   "execution_count": 12,
   "id": "c4f567c2",
   "metadata": {},
   "outputs": [],
   "source": [
    "def get_load_dataset(path):\n",
    "    data = sk.datasets.load_files(path)\n",
    "    files = np.array(data['filenames'])\n",
    "    targets = np.array(data['target'])\n",
    "    target_labels = np.array(data['target_names'])\n",
    "    return files,targets,target_labels"
   ]
  },
  {
   "cell_type": "code",
   "execution_count": 13,
   "id": "44a02b68",
   "metadata": {},
   "outputs": [],
   "source": [
    "x_test, y_test, target_labels = get_load_dataset(test_dir)\n",
    "\n",
    "number_of_classes = len(np.unique(y_test))\n",
    "number_of_classes\n",
    "\n",
    "y_test = tf.keras.utils.to_categorical(y_test,number_of_classes)"
   ]
  },
  {
   "cell_type": "code",
   "execution_count": 16,
   "id": "60fda586",
   "metadata": {},
   "outputs": [
    {
     "name": "stdout",
     "output_type": "stream",
     "text": [
      "Test set shape :  (72, 200, 200, 3)\n"
     ]
    }
   ],
   "source": [
    "def convert_image_to_array(files):\n",
    "    images_as_array=[]\n",
    "    for file in files:\n",
    "        # Convert to Numpy Array\n",
    "        images_as_array.append(tf.keras.preprocessing.image.img_to_array(tf.keras.preprocessing.image.load_img(file)))\n",
    "    return images_as_array\n",
    "\n",
    "\n",
    "x_test = np.array(convert_image_to_array(x_test))\n",
    "print('Test set shape : ',x_test.shape)"
   ]
  },
  {
   "cell_type": "code",
   "execution_count": 17,
   "id": "47948605",
   "metadata": {},
   "outputs": [],
   "source": [
    "x_test2 = x_test.astype('float32')/255\n",
    "\n",
    "# visualize test prediction.\n",
    "y_pred = model.predict(x_test)"
   ]
  },
  {
   "cell_type": "code",
   "execution_count": 20,
   "id": "8e1bc78b",
   "metadata": {
    "scrolled": true
   },
   "outputs": [
    {
     "name": "stderr",
     "output_type": "stream",
     "text": [
      "Clipping input data to the valid range for imshow with RGB data ([0..1] for floats or [0..255] for integers).\n",
      "Clipping input data to the valid range for imshow with RGB data ([0..1] for floats or [0..255] for integers).\n",
      "Clipping input data to the valid range for imshow with RGB data ([0..1] for floats or [0..255] for integers).\n",
      "Clipping input data to the valid range for imshow with RGB data ([0..1] for floats or [0..255] for integers).\n",
      "Clipping input data to the valid range for imshow with RGB data ([0..1] for floats or [0..255] for integers).\n",
      "Clipping input data to the valid range for imshow with RGB data ([0..1] for floats or [0..255] for integers).\n",
      "Clipping input data to the valid range for imshow with RGB data ([0..1] for floats or [0..255] for integers).\n",
      "Clipping input data to the valid range for imshow with RGB data ([0..1] for floats or [0..255] for integers).\n",
      "Clipping input data to the valid range for imshow with RGB data ([0..1] for floats or [0..255] for integers).\n",
      "Clipping input data to the valid range for imshow with RGB data ([0..1] for floats or [0..255] for integers).\n",
      "Clipping input data to the valid range for imshow with RGB data ([0..1] for floats or [0..255] for integers).\n",
      "Clipping input data to the valid range for imshow with RGB data ([0..1] for floats or [0..255] for integers).\n",
      "Clipping input data to the valid range for imshow with RGB data ([0..1] for floats or [0..255] for integers).\n",
      "Clipping input data to the valid range for imshow with RGB data ([0..1] for floats or [0..255] for integers).\n",
      "Clipping input data to the valid range for imshow with RGB data ([0..1] for floats or [0..255] for integers).\n",
      "Clipping input data to the valid range for imshow with RGB data ([0..1] for floats or [0..255] for integers).\n"
     ]
    },
    {
     "data": {
      "image/png": "[encoded data removed]",
      "text/plain": [
       "<Figure size 1152x648 with 16 Axes>"
      ]
     },
     "metadata": {},
     "output_type": "display_data"
    }
   ],
   "source": [
    "# plot a raandom sample of test images, their predicted labels, and ground truth\n",
    "fig = plt.figure(figsize=(16, 9))\n",
    "for i, idx in enumerate(np.random.choice(x_test.shape[0], size=16, replace=False)):\n",
    "    ax = fig.add_subplot(4, 4, i + 1, xticks=[], yticks=[])\n",
    "    ax.imshow(np.squeeze(x_test[idx]))\n",
    "    pred_idx = np.argmax(y_pred[idx])\n",
    "    true_idx = np.argmax(y_test[idx])\n",
    "    ax.set_title(\"{} ({})\".format(target_labels[pred_idx], target_labels[true_idx]),\n",
    "                 color=(\"green\" if pred_idx == true_idx else \"red\"))"
   ]
  },
  {
   "cell_type": "markdown",
   "id": "673fe88a",
   "metadata": {},
   "source": [
    "7"
   ]
  },
  {
   "cell_type": "code",
   "execution_count": null,
   "id": "122826ae",
   "metadata": {},
   "outputs": [],
   "source": []
  }
 ],
 "metadata": {
  "kernelspec": {
   "display_name": "Python 3 (ipykernel)",
   "language": "python",
   "name": "python3"
  },
  "language_info": {
   "codemirror_mode": {
    "name": "ipython",
    "version": 3
   },
   "file_extension": ".py",
   "mimetype": "text/x-python",
   "name": "python",
   "nbconvert_exporter": "python",
   "pygments_lexer": "ipython3",
   "version": "3.10.0"
  }
 },
 "nbformat": 4,
 "nbformat_minor": 5
}
